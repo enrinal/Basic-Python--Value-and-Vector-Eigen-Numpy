{
 "cells": [
  {
   "cell_type": "code",
   "execution_count": 19,
   "metadata": {},
   "outputs": [
    {
     "name": "stdout",
     "output_type": "stream",
     "text": [
      "Matriks\n",
      "[[ 2  1  0]\n",
      " [-1  0 -1]\n",
      " [ 0  1  2]]\n",
      "\n",
      "Eigenvalue\n",
      "[1.+1.j 1.-1.j 2.+0.j]\n",
      "\n",
      "Eigenvektor\n",
      "[[-3.53553391e-01-0.35355339j -3.53553391e-01+0.35355339j\n",
      "  -7.07106781e-01+0.j        ]\n",
      " [ 7.07106781e-01+0.j          7.07106781e-01-0.j\n",
      "  -8.67253443e-17+0.j        ]\n",
      " [-3.53553391e-01-0.35355339j -3.53553391e-01+0.35355339j\n",
      "   7.07106781e-01+0.j        ]]\n"
     ]
    }
   ],
   "source": [
    "import numpy as np\n",
    "\n",
    "\n",
    "a = np.matrix([[2,1,0],[-1,0,-1],[0,1,2]])  #Nilai matriks \n",
    "print(\"Matriks\")\n",
    "print(a)\n",
    "\n",
    "eigenvalue, eigenvektor= np.linalg.eig(a) #Untuk mendapatkan Eigen Value dan Eigen Vektor \n",
    "print(\"\\nEigenvalue\")\n",
    "print (eigenvalue)\n",
    "print(\"\\nEigenvektor\")\n",
    "print (eigenvektor)\n"
   ]
  }
 ],
 "metadata": {
  "kernelspec": {
   "display_name": "Python 3",
   "language": "python",
   "name": "python3"
  },
  "language_info": {
   "codemirror_mode": {
    "name": "ipython",
    "version": 3
   },
   "file_extension": ".py",
   "mimetype": "text/x-python",
   "name": "python",
   "nbconvert_exporter": "python",
   "pygments_lexer": "ipython3",
   "version": "3.7.0"
  }
 },
 "nbformat": 4,
 "nbformat_minor": 2
}
